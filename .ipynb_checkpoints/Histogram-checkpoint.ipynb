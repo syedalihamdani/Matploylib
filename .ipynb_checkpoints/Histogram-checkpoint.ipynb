{
 "cells": [
  {
   "cell_type": "markdown",
   "id": "f9d358f6",
   "metadata": {},
   "source": [
    "## Histogram Using Matplotlib"
   ]
  },
  {
   "cell_type": "code",
   "execution_count": 4,
   "id": "61ab2d18",
   "metadata": {},
   "outputs": [],
   "source": [
    "import numpy as np"
   ]
  },
  {
   "cell_type": "code",
   "execution_count": 14,
   "id": "5ebcf088",
   "metadata": {},
   "outputs": [],
   "source": [
    "import matplotlib.pyplot as plt"
   ]
  },
  {
   "cell_type": "code",
   "execution_count": 15,
   "id": "90fbda0b",
   "metadata": {},
   "outputs": [],
   "source": [
    "a=np.array([22,87,5,43,56,73,55,54,11,20,51,5,79,31,27])"
   ]
  },
  {
   "cell_type": "code",
   "execution_count": 16,
   "id": "a4d2adda",
   "metadata": {},
   "outputs": [
    {
     "name": "stdout",
     "output_type": "stream",
     "text": [
      "[22 87  5 43 56 73 55 54 11 20 51  5 79 31 27]\n"
     ]
    }
   ],
   "source": [
    "print(a)"
   ]
  },
  {
   "cell_type": "code",
   "execution_count": 17,
   "id": "fad60e3b",
   "metadata": {},
   "outputs": [
    {
     "data": {
      "text/plain": [
       "(array([3, 4, 5, 2, 1], dtype=int64), array([  0,  20,  40,  60,  80, 100]))"
      ]
     },
     "execution_count": 17,
     "metadata": {},
     "output_type": "execute_result"
    }
   ],
   "source": [
    "np.histogram(a,bins=[0,20,40,60,80,100])"
   ]
  },
  {
   "cell_type": "code",
   "execution_count": 18,
   "id": "ccf205cd",
   "metadata": {},
   "outputs": [],
   "source": [
    "hist,bins=np.histogram(a,bins=[0,20,40,60,80,100])"
   ]
  },
  {
   "cell_type": "code",
   "execution_count": 19,
   "id": "f129840e",
   "metadata": {},
   "outputs": [
    {
     "name": "stdout",
     "output_type": "stream",
     "text": [
      "[3 4 5 2 1]\n"
     ]
    }
   ],
   "source": [
    "print(hist)"
   ]
  },
  {
   "cell_type": "code",
   "execution_count": 20,
   "id": "1c4f590b",
   "metadata": {},
   "outputs": [
    {
     "name": "stdout",
     "output_type": "stream",
     "text": [
      "[  0  20  40  60  80 100]\n"
     ]
    }
   ],
   "source": [
    "print(bins)"
   ]
  },
  {
   "cell_type": "markdown",
   "id": "131613a4",
   "metadata": {},
   "source": [
    "### plt()"
   ]
  },
  {
   "cell_type": "code",
   "execution_count": 21,
   "id": "0445df20",
   "metadata": {},
   "outputs": [],
   "source": [
    "a=np.array([22,87,5,43,56,73,55,54,11,20,51,5,79,31,27])"
   ]
  },
  {
   "cell_type": "code",
   "execution_count": 22,
   "id": "9e2ba4e8",
   "metadata": {},
   "outputs": [
    {
     "data": {
      "text/plain": [
       "(array([3., 4., 5., 2., 1.]),\n",
       " array([  0,  20,  40,  60,  80, 100]),\n",
       " <BarContainer object of 5 artists>)"
      ]
     },
     "execution_count": 22,
     "metadata": {},
     "output_type": "execute_result"
    },
    {
     "data": {
      "image/png": "[encoded data removed]",
      "text/plain": [
       "<Figure size 432x288 with 1 Axes>"
      ]
     },
     "metadata": {
      "needs_background": "light"
     },
     "output_type": "display_data"
    }
   ],
   "source": [
    "plt.hist(a,bins=[0,20,40,60,80,100])"
   ]
  },
  {
   "cell_type": "code",
   "execution_count": 23,
   "id": "25bc7bd2",
   "metadata": {},
   "outputs": [
    {
     "data": {
      "text/plain": [
       "Text(0.5, 1.0, 'histogram')"
      ]
     },
     "execution_count": 23,
     "metadata": {},
     "output_type": "execute_result"
    },
    {
     "data": {
      "image/png": "[encoded data removed]",
      "text/plain": [
       "<Figure size 432x288 with 1 Axes>"
      ]
     },
     "metadata": {
      "needs_background": "light"
     },
     "output_type": "display_data"
    }
   ],
   "source": [
    "plt.title(\"histogram\")"
   ]
  },
  {
   "cell_type": "code",
   "execution_count": 24,
   "id": "7c25ffed",
   "metadata": {},
   "outputs": [],
   "source": [
    "plt.show()"
   ]
  },
  {
   "cell_type": "markdown",
   "id": "1d8ad7f9",
   "metadata": {},
   "source": [
    "### numpy.save()"
   ]
  },
  {
   "cell_type": "code",
   "execution_count": 25,
   "id": "799f3aba",
   "metadata": {},
   "outputs": [],
   "source": [
    "a=np.array([1,2,3,4,5])"
   ]
  },
  {
   "cell_type": "code",
   "execution_count": 26,
   "id": "e4ebd31d",
   "metadata": {},
   "outputs": [],
   "source": [
    "np.save('outfile',a)"
   ]
  },
  {
   "cell_type": "code",
   "execution_count": 27,
   "id": "e202c45a",
   "metadata": {},
   "outputs": [],
   "source": [
    "b=np.load('outfile.npy')"
   ]
  },
  {
   "cell_type": "code",
   "execution_count": 28,
   "id": "4ee49980",
   "metadata": {},
   "outputs": [
    {
     "name": "stdout",
     "output_type": "stream",
     "text": [
      "[1 2 3 4 5]\n"
     ]
    }
   ],
   "source": [
    "print(b)"
   ]
  },
  {
   "cell_type": "markdown",
   "id": "ce14207e",
   "metadata": {},
   "source": [
    "### savetxt()"
   ]
  },
  {
   "cell_type": "code",
   "execution_count": 29,
   "id": "74cd8306",
   "metadata": {},
   "outputs": [],
   "source": [
    "a=np.array([1,2,3,4,5])"
   ]
  },
  {
   "cell_type": "code",
   "execution_count": 30,
   "id": "00be4609",
   "metadata": {},
   "outputs": [],
   "source": [
    "np.savetxt('out.txt',a)"
   ]
  },
  {
   "cell_type": "code",
   "execution_count": 31,
   "id": "0e8c3aab",
   "metadata": {},
   "outputs": [],
   "source": [
    "b=np.loadtxt('out.txt')"
   ]
  },
  {
   "cell_type": "code",
   "execution_count": 32,
   "id": "a75b7742",
   "metadata": {},
   "outputs": [
    {
     "name": "stdout",
     "output_type": "stream",
     "text": [
      "[1. 2. 3. 4. 5.]\n"
     ]
    }
   ],
   "source": [
    "print(b)"
   ]
  },
  {
   "cell_type": "code",
   "execution_count": null,
   "id": "6045788c",
   "metadata": {},
   "outputs": [],
   "source": []
  }
 ],
 "metadata": {
  "kernelspec": {
   "display_name": "Python 3 (ipykernel)",
   "language": "python",
   "name": "python3"
  },
  "language_info": {
   "codemirror_mode": {
    "name": "ipython",
    "version": 3
   },
   "file_extension": ".py",
   "mimetype": "text/x-python",
   "name": "python",
   "nbconvert_exporter": "python",
   "pygments_lexer": "ipython3",
   "version": "3.10.5"
  }
 },
 "nbformat": 4,
 "nbformat_minor": 5
}
