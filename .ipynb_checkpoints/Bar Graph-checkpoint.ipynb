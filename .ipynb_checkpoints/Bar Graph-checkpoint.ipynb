{
 "cells": [
  {
   "cell_type": "markdown",
   "id": "f308ce14",
   "metadata": {},
   "source": [
    "# Bar Graph"
   ]
  },
  {
   "cell_type": "markdown",
   "id": "21be1908",
   "metadata": {},
   "source": [
    "### we use bar graph to compare"
   ]
  },
  {
   "cell_type": "code",
   "execution_count": 1,
   "id": "af3896ed",
   "metadata": {},
   "outputs": [],
   "source": [
    "import matplotlib.pyplot as plt"
   ]
  },
  {
   "cell_type": "code",
   "execution_count": 12,
   "id": "56c7ba33",
   "metadata": {},
   "outputs": [],
   "source": [
    "x=[1,3,5,7,9]"
   ]
  },
  {
   "cell_type": "code",
   "execution_count": 13,
   "id": "be015bdb",
   "metadata": {},
   "outputs": [],
   "source": [
    "y=[5,2,7,8,2]"
   ]
  },
  {
   "cell_type": "code",
   "execution_count": 14,
   "id": "fd444386",
   "metadata": {},
   "outputs": [],
   "source": [
    "x2=[2,4,6,8,10]"
   ]
  },
  {
   "cell_type": "code",
   "execution_count": 15,
   "id": "776f147f",
   "metadata": {},
   "outputs": [],
   "source": [
    "y2=[8,6,1,5,6]"
   ]
  },
  {
   "cell_type": "code",
   "execution_count": 16,
   "id": "222ee9b9",
   "metadata": {},
   "outputs": [
    {
     "data": {
      "image/png": "[encoded data removed]",
      "text/plain": [
       "<Figure size 432x288 with 1 Axes>"
      ]
     },
     "metadata": {
      "needs_background": "light"
     },
     "output_type": "display_data"
    }
   ],
   "source": [
    "plt.bar(x,y, label=\"Example One\")\n",
    "plt.bar(x2,y2,label=\"Example Two\",color='g')\n",
    "plt.legend()\n",
    "plt.xlabel(\"Bar number\")\n",
    "plt.ylabel(\"Bar hight\")\n",
    "plt.title(\"Info\")\n",
    "plt.show()"
   ]
  },
  {
   "cell_type": "code",
   "execution_count": null,
   "id": "b7cfad6f",
   "metadata": {},
   "outputs": [],
   "source": []
  }
 ],
 "metadata": {
  "kernelspec": {
   "display_name": "Python 3 (ipykernel)",
   "language": "python",
   "name": "python3"
  },
  "language_info": {
   "codemirror_mode": {
    "name": "ipython",
    "version": 3
   },
   "file_extension": ".py",
   "mimetype": "text/x-python",
   "name": "python",
   "nbconvert_exporter": "python",
   "pygments_lexer": "ipython3",
   "version": "3.10.5"
  }
 },
 "nbformat": 4,
 "nbformat_minor": 5
}
